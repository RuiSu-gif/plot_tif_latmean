{
 "cells": [
  {
   "cell_type": "code",
   "execution_count": 9,
   "metadata": {
    "collapsed": true,
    "pycharm": {
     "is_executing": false
    }
   },
   "outputs": [
    {
     "name": "stdout",
     "output_type": "stream",
     "text": [
      "doing...D:\\Data\\Carbon_sink\\dis_all//wx_13-17_dis.tif\n",
      "success...D:\\Data\\Carbon_sink\\dis_all//wx_13-17_dis.tif\n"
     ]
    },
    {
     "name": "stderr",
     "output_type": "stream",
     "text": [
      "d:\\Anaconda\\lib\\site-packages\\ipykernel_launcher.py:24: RuntimeWarning: Mean of empty slice\n",
      "d:\\Anaconda\\lib\\site-packages\\numpy\\lib\\nanfunctions.py:1671: RuntimeWarning: Degrees of freedom <= 0 for slice.\n",
      "  keepdims=keepdims)\n"
     ]
    }
   ],
   "source": [
    "import numpy as np\n",
    "import pandas as pd\n",
    "from osgeo import gdal\n",
    "\n",
    "file_name = 'file_name'\n",
    "file_dir= \"in_file_path\" #输入待转换tif所在的文件夹的路径\n",
    "\n",
    "in_tif = f'{file_dir}//{file_name}.tif'\n",
    "out_file = f'{file_dir}//{file_name}.xlsx'\n",
    "print(\"doing...\" + in_tif)\n",
    "\n",
    "dataset = gdal.Open(in_tif)\n",
    "cols = dataset.RasterXSize  # 图像长度\n",
    "rows = dataset.RasterYSize  # 图像宽度\n",
    "geotransform = dataset.GetGeoTransform()\n",
    "\n",
    "# 计算每个像素的纬度\n",
    "latitudes = np.array([geotransform[3] + geotransform[5] * i for i in range(rows)])\n",
    "\n",
    "r = dataset.ReadAsArray(0, 0, cols, rows)\n",
    "r[r < -998] = np.nan\n",
    "\n",
    "# 计算均值和方差\n",
    "mean_values = np.nanmean(r, axis=1)  # 按Y轴统计均值\n",
    "sd_values = np.nanstd(r, axis=1)  # 按Y轴统计方差\n",
    "\n",
    "# 创建DataFrame\n",
    "dataframe = pd.DataFrame({\n",
    "    'latitude': latitudes,\n",
    "    'mean_value': mean_values,\n",
    "    'sd_value': sd_values\n",
    "})\n",
    "\n",
    "# 将DataFrame存储为Excel文件\n",
    "dataframe.to_excel(out_file, index=False)\n",
    "print(\"success...\" + in_tif)"
   ]
  }
 ],
 "metadata": {
  "kernelspec": {
   "display_name": "Python 3",
   "language": "python",
   "name": "python3"
  },
  "language_info": {
   "codemirror_mode": {
    "name": "ipython",
    "version": 3
   },
   "file_extension": ".py",
   "mimetype": "text/x-python",
   "name": "python",
   "nbconvert_exporter": "python",
   "pygments_lexer": "ipython3",
   "version": "3.7.0"
  },
  "pycharm": {
   "stem_cell": {
    "cell_type": "raw",
    "metadata": {
     "collapsed": false
    },
    "source": []
   }
  }
 },
 "nbformat": 4,
 "nbformat_minor": 0
}
